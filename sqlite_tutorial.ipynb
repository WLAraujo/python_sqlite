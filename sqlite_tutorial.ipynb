{
 "cells": [
  {
   "cell_type": "markdown",
   "metadata": {},
   "source": [
    "# Básico de SQLite"
   ]
  },
  {
   "cell_type": "markdown",
   "metadata": {},
   "source": [
    "Seguindo o tutorial de https://www.youtube.com/watch?v=byHcYRpMgI4"
   ]
  },
  {
   "cell_type": "code",
   "execution_count": 5,
   "metadata": {},
   "outputs": [],
   "source": [
    "# Importando sqlite\n",
    "import sqlite3"
   ]
  },
  {
   "cell_type": "code",
   "execution_count": 6,
   "metadata": {},
   "outputs": [],
   "source": [
    "# Criando ou nos conectando a um banco de dados\n",
    "conexao = sqlite3.connect(\"clientes.db\")\n",
    "# Caso queiramos criar um banco de dados momentâneo em memória\n",
    "# conexao = sqlite3.connect(\":memory:\")"
   ]
  },
  {
   "cell_type": "code",
   "execution_count": 7,
   "metadata": {},
   "outputs": [],
   "source": [
    "# Criando cursor que nos permite interagir com o banco de dados\n",
    "c = conexao.cursor()"
   ]
  },
  {
   "cell_type": "code",
   "execution_count": 8,
   "metadata": {},
   "outputs": [
    {
     "data": {
      "text/plain": [
       "<sqlite3.Cursor at 0x7fa457a19490>"
      ]
     },
     "execution_count": 8,
     "metadata": {},
     "output_type": "execute_result"
    }
   ],
   "source": [
    "# Criando uma tabela, lembrando que sqlite é case sensitive\n",
    "# Tipos de dados do sqlite: NULL, INTEGER, REAL, TEXT, BLOB\n",
    "c.execute(\"\"\"\n",
    "        CREATE TABLE clientes(\n",
    "        primeiro_nome TEXT,\n",
    "        ultimo_nome TEXT,\n",
    "        email TEXT\n",
    "        )\n",
    "\"\"\")"
   ]
  },
  {
   "cell_type": "code",
   "execution_count": 9,
   "metadata": {},
   "outputs": [
    {
     "data": {
      "text/plain": [
       "<sqlite3.Cursor at 0x7fa457a19490>"
      ]
     },
     "execution_count": 9,
     "metadata": {},
     "output_type": "execute_result"
    }
   ],
   "source": [
    "## Adicionando dados a nossa tabela\n",
    "c.execute(\"\"\"\n",
    "    INSERT INTO clientes \n",
    "    VALUES (\"John\",\"Textor\", \"glorioso_2022@botafogo.com.br\")\n",
    "\"\"\")"
   ]
  },
  {
   "cell_type": "code",
   "execution_count": 10,
   "metadata": {},
   "outputs": [
    {
     "data": {
      "text/plain": [
       "<sqlite3.Cursor at 0x7fa457a19490>"
      ]
     },
     "execution_count": 10,
     "metadata": {},
     "output_type": "execute_result"
    }
   ],
   "source": [
    "# Ao invés de adicionarmos um registro por vez podemos usar listas de python para adicionar vários registros\n",
    "varios_clientes = [\n",
    "    (\"nome_1\", \"sobrenome_1\", \"nome_1@sobrenome_1\"),\n",
    "    (\"nome_2\", \"sobrenome_2\", \"nome_2@sobrenome_2\"),\n",
    "    (\"nome_3\", \"sobrenome_3\", \"nome_3@sobrenome_3\"),\n",
    "]\n",
    "c.executemany(\"\"\"\n",
    "    INSERT INTO clientes \n",
    "    VALUES (?,?,?)\n",
    "\"\"\", varios_clientes )"
   ]
  },
  {
   "cell_type": "code",
   "execution_count": 11,
   "metadata": {},
   "outputs": [
    {
     "data": {
      "text/plain": [
       "<sqlite3.Cursor at 0x7fa457a19490>"
      ]
     },
     "execution_count": 11,
     "metadata": {},
     "output_type": "execute_result"
    }
   ],
   "source": [
    "# Realizando query sobre tabela criada\n",
    "c.execute(\"SELECT * FROM clientes\")"
   ]
  },
  {
   "cell_type": "code",
   "execution_count": 12,
   "metadata": {},
   "outputs": [
    {
     "name": "stdout",
     "output_type": "stream",
     "text": [
      "[('John', 'Textor', 'glorioso_2022@botafogo.com.br'), ('nome_1', 'sobrenome_1', 'nome_1@sobrenome_1'), ('nome_2', 'sobrenome_2', 'nome_2@sobrenome_2'), ('nome_3', 'sobrenome_3', 'nome_3@sobrenome_3')]\n"
     ]
    }
   ],
   "source": [
    "# Query que retorna apenas a primeira linha da tabela: c.fetchone()\n",
    "# Query que retorna apenas as três primeiras linhas da tabela: c.fetchmany(3)\n",
    "# Query que retorna todas as linhas da tabela\n",
    "# O retorno da query é feita através de uma lista python\n",
    "print(c.fetchall())"
   ]
  },
  {
   "cell_type": "code",
   "execution_count": 13,
   "metadata": {},
   "outputs": [
    {
     "name": "stdout",
     "output_type": "stream",
     "text": [
      "[(1, 'John', 'Textor', 'glorioso_2022@botafogo.com.br'), (2, 'nome_1', 'sobrenome_1', 'nome_1@sobrenome_1'), (3, 'nome_2', 'sobrenome_2', 'nome_2@sobrenome_2'), (4, 'nome_3', 'sobrenome_3', 'nome_3@sobrenome_3')]\n"
     ]
    }
   ],
   "source": [
    "# Por baixo dos panos o sqlite define uma chave primária chamada rowid\n",
    "c.execute(\"SELECT rowid, * FROM clientes\")\n",
    "print(c.fetchall())"
   ]
  },
  {
   "cell_type": "code",
   "execution_count": 14,
   "metadata": {},
   "outputs": [
    {
     "name": "stdout",
     "output_type": "stream",
     "text": [
      "[(1, 'John', 'Textor', 'glorioso_2022@botafogo.com.br')]\n"
     ]
    }
   ],
   "source": [
    "# Criando uma cláusula com WHERE\n",
    "c.execute(\"SELECT rowid, * FROM clientes WHERE primeiro_nome='John' \")\n",
    "print(c.fetchall())"
   ]
  },
  {
   "cell_type": "code",
   "execution_count": 15,
   "metadata": {},
   "outputs": [],
   "source": [
    "# Commitando os comandos associados ao cursor através da nossa conexao\n",
    "conexao.commit()"
   ]
  },
  {
   "cell_type": "code",
   "execution_count": 16,
   "metadata": {},
   "outputs": [],
   "source": [
    "# Fechando a conexão\n",
    "conexao.close()"
   ]
  },
  {
   "cell_type": "markdown",
   "metadata": {},
   "source": [
    "# Conversão de .db para dataframe"
   ]
  },
  {
   "cell_type": "markdown",
   "metadata": {},
   "source": [
    "Seguindo o tutorial de https://datatofish.com/sql-to-pandas-dataframe/"
   ]
  },
  {
   "cell_type": "code",
   "execution_count": 17,
   "metadata": {},
   "outputs": [],
   "source": [
    "# Importando pacote e criando conector e cursor\n",
    "import sqlite3\n",
    "conn = sqlite3.connect('produtos.db') \n",
    "c = conn.cursor()"
   ]
  },
  {
   "cell_type": "code",
   "execution_count": 18,
   "metadata": {},
   "outputs": [
    {
     "data": {
      "text/plain": [
       "<sqlite3.Cursor at 0x7fa457a19ab0>"
      ]
     },
     "execution_count": 18,
     "metadata": {},
     "output_type": "execute_result"
    }
   ],
   "source": [
    "# Criando tabela de produtos\n",
    "c.execute('''\n",
    "          CREATE TABLE IF NOT EXISTS produtos\n",
    "          (produto_id INTEGER PRIMARY KEY, produto_nome TEXT, preco INTEGER)\n",
    "          ''')"
   ]
  },
  {
   "cell_type": "code",
   "execution_count": 20,
   "metadata": {},
   "outputs": [
    {
     "data": {
      "text/plain": [
       "<sqlite3.Cursor at 0x7fa457a19ab0>"
      ]
     },
     "execution_count": 20,
     "metadata": {},
     "output_type": "execute_result"
    }
   ],
   "source": [
    "# Inserindo dados na tabela\n",
    "c.execute('''\n",
    "          INSERT INTO produtos (produto_id, produto_nome, preco)\n",
    "\n",
    "                VALUES\n",
    "                (1,'Computer',800),\n",
    "                (2,'Printer',200),\n",
    "                (3,'Tablet',300),\n",
    "                (4,'Desk',450),\n",
    "                (5,'Chair',150)\n",
    "          ''')    "
   ]
  },
  {
   "cell_type": "code",
   "execution_count": 22,
   "metadata": {},
   "outputs": [],
   "source": [
    "import pandas as pd"
   ]
  },
  {
   "cell_type": "code",
   "execution_count": 23,
   "metadata": {},
   "outputs": [],
   "source": [
    "# Comitando alterações do cursor\n",
    "conn.commit()"
   ]
  },
  {
   "cell_type": "code",
   "execution_count": 24,
   "metadata": {},
   "outputs": [],
   "source": [
    "# Criando novo cursor para usar com a biblioteca pandas\n",
    "conn = sqlite3.connect('produtos.db') "
   ]
  },
  {
   "cell_type": "code",
   "execution_count": 25,
   "metadata": {},
   "outputs": [],
   "source": [
    "# Passando os dados de um db do sqlite para um dataframe pandas\n",
    "dataframe_sqlite = pd.read_sql_query ('''\n",
    "                               SELECT\n",
    "                               *\n",
    "                               FROM produtos\n",
    "                               ''', conn)"
   ]
  },
  {
   "cell_type": "code",
   "execution_count": 26,
   "metadata": {},
   "outputs": [
    {
     "data": {
      "text/html": [
       "<div>\n",
       "<style scoped>\n",
       "    .dataframe tbody tr th:only-of-type {\n",
       "        vertical-align: middle;\n",
       "    }\n",
       "\n",
       "    .dataframe tbody tr th {\n",
       "        vertical-align: top;\n",
       "    }\n",
       "\n",
       "    .dataframe thead th {\n",
       "        text-align: right;\n",
       "    }\n",
       "</style>\n",
       "<table border=\"1\" class=\"dataframe\">\n",
       "  <thead>\n",
       "    <tr style=\"text-align: right;\">\n",
       "      <th></th>\n",
       "      <th>produto_id</th>\n",
       "      <th>produto_nome</th>\n",
       "      <th>preco</th>\n",
       "    </tr>\n",
       "  </thead>\n",
       "  <tbody>\n",
       "    <tr>\n",
       "      <th>0</th>\n",
       "      <td>1</td>\n",
       "      <td>Computer</td>\n",
       "      <td>800</td>\n",
       "    </tr>\n",
       "    <tr>\n",
       "      <th>1</th>\n",
       "      <td>2</td>\n",
       "      <td>Printer</td>\n",
       "      <td>200</td>\n",
       "    </tr>\n",
       "    <tr>\n",
       "      <th>2</th>\n",
       "      <td>3</td>\n",
       "      <td>Tablet</td>\n",
       "      <td>300</td>\n",
       "    </tr>\n",
       "    <tr>\n",
       "      <th>3</th>\n",
       "      <td>4</td>\n",
       "      <td>Desk</td>\n",
       "      <td>450</td>\n",
       "    </tr>\n",
       "    <tr>\n",
       "      <th>4</th>\n",
       "      <td>5</td>\n",
       "      <td>Chair</td>\n",
       "      <td>150</td>\n",
       "    </tr>\n",
       "  </tbody>\n",
       "</table>\n",
       "</div>"
      ],
      "text/plain": [
       "   produto_id produto_nome  preco\n",
       "0           1     Computer    800\n",
       "1           2      Printer    200\n",
       "2           3       Tablet    300\n",
       "3           4         Desk    450\n",
       "4           5        Chair    150"
      ]
     },
     "execution_count": 26,
     "metadata": {},
     "output_type": "execute_result"
    }
   ],
   "source": [
    "# Visualizando o dataframe que transformamos\n",
    "dataframe_sqlite"
   ]
  },
  {
   "cell_type": "markdown",
   "metadata": {},
   "source": [
    "# Conversão de dataframe para .db"
   ]
  },
  {
   "cell_type": "code",
   "execution_count": 27,
   "metadata": {},
   "outputs": [
    {
     "name": "stdout",
     "output_type": "stream",
     "text": [
      "Collecting sqlalchemy\n",
      "  Downloading SQLAlchemy-1.4.35-cp38-cp38-manylinux_2_5_x86_64.manylinux1_x86_64.manylinux_2_17_x86_64.manylinux2014_x86_64.whl (1.6 MB)\n",
      "\u001b[K     |████████████████████████████████| 1.6 MB 3.6 MB/s eta 0:00:01\n",
      "\u001b[?25hRequirement already satisfied: greenlet!=0.4.17; python_version >= \"3\" and (platform_machine == \"aarch64\" or (platform_machine == \"ppc64le\" or (platform_machine == \"x86_64\" or (platform_machine == \"amd64\" or (platform_machine == \"AMD64\" or (platform_machine == \"win32\" or platform_machine == \"WIN32\")))))) in /home/wesleyla/.local/lib/python3.8/site-packages (from sqlalchemy) (1.1.0)\n",
      "Installing collected packages: sqlalchemy\n",
      "Successfully installed sqlalchemy-1.4.35\n"
     ]
    }
   ],
   "source": [
    "# Instalando SQLAlchemy, toolkit que permite ao Python conversar com DBs SQL\n",
    "!pip install sqlalchemy"
   ]
  },
  {
   "cell_type": "code",
   "execution_count": 28,
   "metadata": {},
   "outputs": [],
   "source": [
    "# Importando read_csv para ler tabela que vamos passar para o .db\n",
    "from pandas import read_csv"
   ]
  },
  {
   "cell_type": "code",
   "execution_count": 30,
   "metadata": {},
   "outputs": [],
   "source": [
    "# Lendo dados de .csv para dataframe\n",
    "df_brasil = read_csv(\"brasil.csv\")"
   ]
  },
  {
   "cell_type": "code",
   "execution_count": 31,
   "metadata": {},
   "outputs": [
    {
     "data": {
      "text/html": [
       "<div>\n",
       "<style scoped>\n",
       "    .dataframe tbody tr th:only-of-type {\n",
       "        vertical-align: middle;\n",
       "    }\n",
       "\n",
       "    .dataframe tbody tr th {\n",
       "        vertical-align: top;\n",
       "    }\n",
       "\n",
       "    .dataframe thead th {\n",
       "        text-align: right;\n",
       "    }\n",
       "</style>\n",
       "<table border=\"1\" class=\"dataframe\">\n",
       "  <thead>\n",
       "    <tr style=\"text-align: right;\">\n",
       "      <th></th>\n",
       "      <th>ano</th>\n",
       "      <th>nivel_1</th>\n",
       "      <th>nivel_2</th>\n",
       "      <th>nivel_3</th>\n",
       "      <th>nivel_4</th>\n",
       "      <th>nivel_5</th>\n",
       "      <th>nivel_6</th>\n",
       "      <th>tipo_emissao</th>\n",
       "      <th>gas</th>\n",
       "      <th>atividade_economica</th>\n",
       "      <th>produto</th>\n",
       "      <th>emissao</th>\n",
       "    </tr>\n",
       "  </thead>\n",
       "  <tbody>\n",
       "    <tr>\n",
       "      <th>0</th>\n",
       "      <td>1970</td>\n",
       "      <td>Agropecuária</td>\n",
       "      <td>Cultivo do Arroz</td>\n",
       "      <td>Diretas</td>\n",
       "      <td>Outros</td>\n",
       "      <td>Vegetal</td>\n",
       "      <td>Arroz</td>\n",
       "      <td>Emissão</td>\n",
       "      <td>CH4 (t)</td>\n",
       "      <td>NaN</td>\n",
       "      <td>NaN</td>\n",
       "      <td>230462.17</td>\n",
       "    </tr>\n",
       "    <tr>\n",
       "      <th>1</th>\n",
       "      <td>1971</td>\n",
       "      <td>Agropecuária</td>\n",
       "      <td>Cultivo do Arroz</td>\n",
       "      <td>Diretas</td>\n",
       "      <td>Outros</td>\n",
       "      <td>Vegetal</td>\n",
       "      <td>Arroz</td>\n",
       "      <td>Emissão</td>\n",
       "      <td>CH4 (t)</td>\n",
       "      <td>NaN</td>\n",
       "      <td>NaN</td>\n",
       "      <td>226016.30</td>\n",
       "    </tr>\n",
       "    <tr>\n",
       "      <th>2</th>\n",
       "      <td>1972</td>\n",
       "      <td>Agropecuária</td>\n",
       "      <td>Cultivo do Arroz</td>\n",
       "      <td>Diretas</td>\n",
       "      <td>Outros</td>\n",
       "      <td>Vegetal</td>\n",
       "      <td>Arroz</td>\n",
       "      <td>Emissão</td>\n",
       "      <td>CH4 (t)</td>\n",
       "      <td>NaN</td>\n",
       "      <td>NaN</td>\n",
       "      <td>220101.20</td>\n",
       "    </tr>\n",
       "    <tr>\n",
       "      <th>3</th>\n",
       "      <td>1973</td>\n",
       "      <td>Agropecuária</td>\n",
       "      <td>Cultivo do Arroz</td>\n",
       "      <td>Diretas</td>\n",
       "      <td>Outros</td>\n",
       "      <td>Vegetal</td>\n",
       "      <td>Arroz</td>\n",
       "      <td>Emissão</td>\n",
       "      <td>CH4 (t)</td>\n",
       "      <td>NaN</td>\n",
       "      <td>NaN</td>\n",
       "      <td>214195.56</td>\n",
       "    </tr>\n",
       "    <tr>\n",
       "      <th>4</th>\n",
       "      <td>1974</td>\n",
       "      <td>Agropecuária</td>\n",
       "      <td>Cultivo do Arroz</td>\n",
       "      <td>Diretas</td>\n",
       "      <td>Outros</td>\n",
       "      <td>Vegetal</td>\n",
       "      <td>Arroz</td>\n",
       "      <td>Emissão</td>\n",
       "      <td>CH4 (t)</td>\n",
       "      <td>NaN</td>\n",
       "      <td>NaN</td>\n",
       "      <td>186862.84</td>\n",
       "    </tr>\n",
       "  </tbody>\n",
       "</table>\n",
       "</div>"
      ],
      "text/plain": [
       "    ano       nivel_1           nivel_2  nivel_3 nivel_4  nivel_5 nivel_6  \\\n",
       "0  1970  Agropecuária  Cultivo do Arroz  Diretas  Outros  Vegetal   Arroz   \n",
       "1  1971  Agropecuária  Cultivo do Arroz  Diretas  Outros  Vegetal   Arroz   \n",
       "2  1972  Agropecuária  Cultivo do Arroz  Diretas  Outros  Vegetal   Arroz   \n",
       "3  1973  Agropecuária  Cultivo do Arroz  Diretas  Outros  Vegetal   Arroz   \n",
       "4  1974  Agropecuária  Cultivo do Arroz  Diretas  Outros  Vegetal   Arroz   \n",
       "\n",
       "  tipo_emissao      gas atividade_economica produto    emissao  \n",
       "0      Emissão  CH4 (t)                 NaN     NaN  230462.17  \n",
       "1      Emissão  CH4 (t)                 NaN     NaN  226016.30  \n",
       "2      Emissão  CH4 (t)                 NaN     NaN  220101.20  \n",
       "3      Emissão  CH4 (t)                 NaN     NaN  214195.56  \n",
       "4      Emissão  CH4 (t)                 NaN     NaN  186862.84  "
      ]
     },
     "execution_count": 31,
     "metadata": {},
     "output_type": "execute_result"
    }
   ],
   "source": [
    "# Verificando o dataframe\n",
    "df_brasil.head()"
   ]
  },
  {
   "cell_type": "code",
   "execution_count": 32,
   "metadata": {},
   "outputs": [],
   "source": [
    "# Importando função que fará conexão com .db do SQLAlchemy\n",
    "from sqlalchemy import create_engine"
   ]
  },
  {
   "cell_type": "code",
   "execution_count": 33,
   "metadata": {},
   "outputs": [],
   "source": [
    "# Criando engine e conector com o .db do sqlite, o echo é para vermos a conexão como log\n",
    "engine = create_engine('sqlite:///pandas_df.db', echo=True)\n",
    "sqlite_connection = engine.connect()"
   ]
  },
  {
   "cell_type": "code",
   "execution_count": 34,
   "metadata": {},
   "outputs": [
    {
     "name": "stdout",
     "output_type": "stream",
     "text": [
      "2022-04-17 22:26:48,091 INFO sqlalchemy.engine.Engine PRAGMA main.table_info(\"brasil_emissao\")\n",
      "2022-04-17 22:26:48,092 INFO sqlalchemy.engine.Engine [raw sql] ()\n",
      "2022-04-17 22:26:48,094 INFO sqlalchemy.engine.Engine PRAGMA temp.table_info(\"brasil_emissao\")\n",
      "2022-04-17 22:26:48,094 INFO sqlalchemy.engine.Engine [raw sql] ()\n",
      "2022-04-17 22:26:48,098 INFO sqlalchemy.engine.Engine \n",
      "CREATE TABLE brasil_emissao (\n",
      "\t\"index\" BIGINT, \n",
      "\tano BIGINT, \n",
      "\tnivel_1 TEXT, \n",
      "\tnivel_2 TEXT, \n",
      "\tnivel_3 TEXT, \n",
      "\tnivel_4 TEXT, \n",
      "\tnivel_5 TEXT, \n",
      "\tnivel_6 TEXT, \n",
      "\ttipo_emissao TEXT, \n",
      "\tgas TEXT, \n",
      "\tatividade_economica TEXT, \n",
      "\tproduto TEXT, \n",
      "\temissao FLOAT\n",
      ")\n",
      "\n",
      "\n",
      "2022-04-17 22:26:48,100 INFO sqlalchemy.engine.Engine [no key 0.00155s] ()\n",
      "2022-04-17 22:26:48,501 INFO sqlalchemy.engine.Engine COMMIT\n",
      "2022-04-17 22:26:48,503 INFO sqlalchemy.engine.Engine CREATE INDEX ix_brasil_emissao_index ON brasil_emissao (\"index\")\n",
      "2022-04-17 22:26:48,504 INFO sqlalchemy.engine.Engine [no key 0.00115s] ()\n",
      "2022-04-17 22:26:48,716 INFO sqlalchemy.engine.Engine COMMIT\n",
      "2022-04-17 22:26:52,811 INFO sqlalchemy.engine.Engine INSERT INTO brasil_emissao (\"index\", ano, nivel_1, nivel_2, nivel_3, nivel_4, nivel_5, nivel_6, tipo_emissao, gas, atividade_economica, produto, emissao) VALUES (?, ?, ?, ?, ?, ?, ?, ?, ?, ?, ?, ?, ?)\n",
      "2022-04-17 22:26:52,811 INFO sqlalchemy.engine.Engine [generated in 3.17371s] ((0, 1970, 'Agropecuária', 'Cultivo do Arroz', 'Diretas', 'Outros', 'Vegetal', 'Arroz', 'Emissão', 'CH4 (t)', None, None, 230462.17), (1, 1971, 'Agropecuária', 'Cultivo do Arroz', 'Diretas', 'Outros', 'Vegetal', 'Arroz', 'Emissão', 'CH4 (t)', None, None, 226016.3), (2, 1972, 'Agropecuária', 'Cultivo do Arroz', 'Diretas', 'Outros', 'Vegetal', 'Arroz', 'Emissão', 'CH4 (t)', None, None, 220101.2), (3, 1973, 'Agropecuária', 'Cultivo do Arroz', 'Diretas', 'Outros', 'Vegetal', 'Arroz', 'Emissão', 'CH4 (t)', None, None, 214195.56), (4, 1974, 'Agropecuária', 'Cultivo do Arroz', 'Diretas', 'Outros', 'Vegetal', 'Arroz', 'Emissão', 'CH4 (t)', None, None, 186862.84), (5, 1975, 'Agropecuária', 'Cultivo do Arroz', 'Diretas', 'Outros', 'Vegetal', 'Arroz', 'Emissão', 'CH4 (t)', None, None, 197538.2), (6, 1976, 'Agropecuária', 'Cultivo do Arroz', 'Diretas', 'Outros', 'Vegetal', 'Arroz', 'Emissão', 'CH4 (t)', None, None, 231922.02), (7, 1977, 'Agropecuária', 'Cultivo do Arroz', 'Diretas', 'Outros', 'Vegetal', 'Arroz', 'Emissão', 'CH4 (t)', None, None, 209517.92)  ... displaying 10 of 454850 total bound parameter sets ...  (454848, 2018, 'Resíduos ', 'Resíduos Sólidos', 'Tratamento Biológico de Resíduos Sólidos', 'Resíduos Sólidos Urbanos', 'Compostagem', 'NÃO SE APLICA ', 'Emissão', 'N2O (t)', 'SANEAMENTO', None, 70.507559), (454849, 2019, 'Resíduos ', 'Resíduos Sólidos', 'Tratamento Biológico de Resíduos Sólidos', 'Resíduos Sólidos Urbanos', 'Compostagem', 'NÃO SE APLICA ', 'Emissão', 'N2O (t)', 'SANEAMENTO', None, 71.068872))\n",
      "2022-04-17 22:26:55,124 INFO sqlalchemy.engine.Engine COMMIT\n"
     ]
    },
    {
     "data": {
      "text/plain": [
       "454850"
      ]
     },
     "execution_count": 34,
     "metadata": {},
     "output_type": "execute_result"
    }
   ],
   "source": [
    "# Convertendo nosso df para um .db\n",
    "df_brasil.to_sql(\"brasil_emissao\", sqlite_connection, if_exists='fail')"
   ]
  },
  {
   "cell_type": "code",
   "execution_count": 35,
   "metadata": {},
   "outputs": [
    {
     "name": "stdout",
     "output_type": "stream",
     "text": [
      "[(0, 1970, 'Agropecuária', 'Cultivo do Arroz', 'Diretas', 'Outros', 'Vegetal', 'Arroz', 'Emissão', 'CH4 (t)', None, None, 230462.17), (1, 1971, 'Agropecuária', 'Cultivo do Arroz', 'Diretas', 'Outros', 'Vegetal', 'Arroz', 'Emissão', 'CH4 (t)', None, None, 226016.3), (2, 1972, 'Agropecuária', 'Cultivo do Arroz', 'Diretas', 'Outros', 'Vegetal', 'Arroz', 'Emissão', 'CH4 (t)', None, None, 220101.2), (3, 1973, 'Agropecuária', 'Cultivo do Arroz', 'Diretas', 'Outros', 'Vegetal', 'Arroz', 'Emissão', 'CH4 (t)', None, None, 214195.56), (4, 1974, 'Agropecuária', 'Cultivo do Arroz', 'Diretas', 'Outros', 'Vegetal', 'Arroz', 'Emissão', 'CH4 (t)', None, None, 186862.84)]\n"
     ]
    }
   ],
   "source": [
    "# Fazendo um query sobre o nosso .db para confirmar se deu tudo certo\n",
    "conexao = sqlite3.connect(\"pandas_df.db\")\n",
    "c = conexao.cursor()\n",
    "c.execute(\"SELECT * FROM brasil_emissao WHERE rowid <= 5\")\n",
    "print(c.fetchall())\n",
    "conexao.commit()\n",
    "conexao.close()"
   ]
  }
 ],
 "metadata": {
  "interpreter": {
   "hash": "916dbcbb3f70747c44a77c7bcd40155683ae19c65e1c03b4aa3499c5328201f1"
  },
  "kernelspec": {
   "display_name": "Python 3.8.10 64-bit",
   "language": "python",
   "name": "python3"
  },
  "language_info": {
   "codemirror_mode": {
    "name": "ipython",
    "version": 3
   },
   "file_extension": ".py",
   "mimetype": "text/x-python",
   "name": "python",
   "nbconvert_exporter": "python",
   "pygments_lexer": "ipython3",
   "version": "3.8.10"
  },
  "orig_nbformat": 4
 },
 "nbformat": 4,
 "nbformat_minor": 2
}
